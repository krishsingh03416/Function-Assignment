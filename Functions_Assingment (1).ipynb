{
  "nbformat": 4,
  "nbformat_minor": 0,
  "metadata": {
    "colab": {
      "provenance": []
    },
    "kernelspec": {
      "name": "python3",
      "display_name": "Python 3"
    },
    "language_info": {
      "name": "python"
    }
  },
  "cells": [
    {
      "cell_type": "markdown",
      "source": [
        "Q1. What is the difference between a function and a method in Python?\n",
        "- In Python, the key difference between a function and a method lies in their association with objects:\n",
        "\n",
        "- A function is a standalone block of code that performs a specific task and can be called independently. It is not tied to any particular object.\n",
        "- A method is similar to a function but is associated with an object. Methods are defined within a class and are called on instances of that class. They often operate on the data contained in the object (instance attributes).\n",
        "\n",
        "Examples:\n",
        "- # Function\n",
        "def greet(name):\n",
        "    return f\"Hello, {name}!\"\n",
        "\n",
        "print(greet(\"Alice\"))  # Calling the function\n",
        "\n",
        "- # Method\n",
        "class Greeter:\n",
        "    def greet(self, name):\n",
        "        return f\"Hello, {name}!\"\n",
        "\n",
        "greeter = Greeter()\n",
        "print(greeter.greet(\"Bob\"))  # Calling the method on an object\n",
        "- In this example, greet() is a standalone function, while greet() inside the Greeter class is a method tied to the Greeter object."
      ],
      "metadata": {
        "id": "ItfS31XB3FiC"
      }
    },
    {
      "cell_type": "markdown",
      "source": [
        "Q2. Explain the concept of function arguments and parameters in Python.\n",
        "- In Python, parameters and arguments refer to values used to pass data into functions:\n",
        "\n",
        "- Parameters are variables defined in a function's signature and act as - -laceholders for the input values the function expects.\n",
        "- Arguments are the actual values supplied to the function when it is called\n",
        "\n",
        "Examples:\n",
        "def add(a, b):  # a and b are parameters\n",
        "    return a + b\n",
        "\n",
        "result = add(3, 5)  # 3 and 5 are arguments\n",
        "print(result)  # Output: 8"
      ],
      "metadata": {
        "id": "NXhSN8X44L5q"
      }
    },
    {
      "cell_type": "markdown",
      "source": [
        "Q3. What are the different ways to define and call a function in Python?\n",
        "- In Python, functions can be defined and called in several ways:\n",
        "\n",
        "- Standard Function Definition and Call: Use the def keyword to define a function, and call it by its name.\n",
        "def greet(name):\n",
        "    return f\"Hello, {name}!\"\n",
        "print(greet(\"Alice\"))  # Output: Hello, Alice!\n",
        "\n",
        "- Lambda (Anonymous) Functions: Define small, single-expression functions using the lambda keyword.\n",
        "square = lambda x: x ** 2\n",
        "print(square(4))  # Output: 16\n",
        "\n",
        "- Functions with Default Arguments: Provide default values for parameters.\n",
        "def greet(name=\"Guest\"):\n",
        "    return f\"Hello, {name}!\"\n",
        "print(greet())  # Output: Hello, Guest!\n",
        "\n",
        "- Functions with Variable-Length Arguments: Use *args for multiple positional arguments and **kwargs for multiple keyword arguments.\n",
        "def summarize(*args, **kwargs):\n",
        "    return f\"Sum: {sum(args)}, Details: {kwargs}\"\n",
        "print(summarize(1, 2, 3, name=\"Alice\", age=25))  \n",
        "- # Output: Sum: 6, Details: {'name': 'Alice', 'age': 25}\n",
        "\n",
        "- Nested Functions: Define a function inside another function.\n",
        "def outer():\n",
        "    def inner():\n",
        "        return \"Inner Function\"\n",
        "    return inner()\n",
        "print(outer())  # Output: Inner Function"
      ],
      "metadata": {
        "id": "G0u53RFs5IZ3"
      }
    },
    {
      "cell_type": "markdown",
      "source": [
        "Q4. What is the purpose of the `return` statement in a Python function?\n",
        "- The return statement in Python is used to send a value or result from a function back to the caller. It terminates the function's execution and provides the specified value. If no return statement is used, the function returns None by default.\n",
        "- Examples:\n",
        "- Returning a value:\n",
        "def add(a, b):\n",
        "    return a + b\n",
        "\n",
        "result = add(3, 5)  # result gets the value 8\n",
        "print(result)  # Output: 8\n",
        "\n",
        "- Returning multiple values:\n",
        "\n",
        "def divide_and_remainder(a, b):\n",
        "    return a // b, a % b\n",
        "\n",
        "quotient, remainder = divide_and_remainder(10, 3)\n",
        "print(quotient, remainder)  # Output: 3 1"
      ],
      "metadata": {
        "id": "cvD4sdzY9RcC"
      }
    },
    {
      "cell_type": "markdown",
      "source": [
        "Q5.What are iterators in Python and how do they differ from iterables?\n",
        "- In Python, an iterator is an object that represents a stream of data and can be iterated (traversed) one element at a time using the next() function. It must implement the __iter__() and __next__() methods. An iterable, on the other hand, is any object that can return an iterator using the iter() function. Examples of iterables include lists, tuples, strings, and dictionaries. The key difference is that iterators produce data on demand (lazy evaluation), while iterables can be directly traversed.\n",
        "\n",
        "Examples:\n",
        "1.Iterable:\n",
        "my_list = [1, 2, 3]  # A list is an iterable\n",
        "for item in my_list:  # Traversing an iterable\n",
        "    print(item)\n",
        "\n",
        "2.Iterator:\n",
        "my_iter = iter(my_list)  # Create an iterator from an iterable\n",
        "print(next(my_iter))  # Output: 1\n",
        "print(next(my_iter))  # Output: 2\n",
        "print(next(my_iter))  # Output: 3    \n",
        "\n",
        "\n",
        "\n"
      ],
      "metadata": {
        "id": "CnF61KydAP-h"
      }
    },
    {
      "cell_type": "markdown",
      "source": [
        "Q6. Explain the concept of generators in Python and how they are defined.\n",
        "- Generators in Python are a special type of iterator used to produce a sequence of values lazily, meaning they generate items one at a time only when required. Generators are defined using a function with the yield keyword, which pauses the function's execution and retains its state, allowing it to resume from where it left off.\n",
        "-Examples:\n",
        "- 1.Defining and Using a Generator:\n",
        "def count_up_to(n):\n",
        "    count = 1\n",
        "    while count <= n:\n",
        "        yield count\n",
        "        count += 1\n",
        "\n",
        "for num in count_up_to(5):\n",
        "    print(num)  # Outputs: 1, 2, 3, 4, 5 (one at a time)\n",
        "- 2.Using next() with Generators:\n",
        "gen = count_up_to(3)\n",
        "print(next(gen))  # Output: 1\n",
        "print(next(gen))  # Output: 2\n",
        "print(next(gen))  # Output: 3    "
      ],
      "metadata": {
        "id": "fhhL0dxaE1Rw"
      }
    },
    {
      "cell_type": "markdown",
      "source": [
        "Q7. What are the advantages of using generators over regular functions?\n",
        "- Generators offer several advantages over regular functions, primarily due to their ability to yield values lazily:\n",
        "\n",
        "- Memory Efficiency: Generators produce items one at a time without storing the entire sequence in memory, making them ideal for working with large datasets or infinite sequences.\n",
        "- Improved Performance: Since items are generated on demand, generators avoid the overhead of creating and storing large data structures.\n",
        "- State Retention: Generators maintain their state between yield calls, simplifying the implementation of complex iterators.\n",
        "\n",
        "Example:\n",
        "ef regular_function(n):\n",
        "    return [i for i in range(n)]  # Creates and stores the entire list\n",
        "\n",
        "def generator_function(n):\n",
        "    for i in range(n):\n",
        "        yield i  # Yields one value at a time\n",
        "\n",
        "- # Using a generator for large ranges\n",
        "gen = generator_function(10**6)\n",
        "print(next(gen))  # Output: 0\n",
        "print(next(gen))  # Output: 1"
      ],
      "metadata": {
        "id": "wGpyOblJFwSC"
      }
    },
    {
      "cell_type": "markdown",
      "source": [
        "Q8. What is a lambda function in Python and when is it typically used?\n",
        "- A lambda function in Python is a small, anonymous function defined using the lambda keyword. It can have multiple arguments but only one expression, which is automatically returned. Lambda functions are typically used for short, simple operations that don't require a full def function, such as in inline operations, callbacks, or when used temporarily within higher-order functions like map(), filter(), or sorted().\n",
        "- Example:\n",
        "- # Lambda function to double a number\n",
        "double = lambda x: x * 2\n",
        "print(double(5))  # Output: 10\n",
        "\n",
        "- # Using lambda in a higher-order function\n",
        "numbers = [1, 2, 3, 4]\n",
        "squared = map(lambda x: x ** 2, numbers)\n",
        "print(list(squared))  # Output: [1, 4, 9, 16]"
      ],
      "metadata": {
        "id": "zaZoddefG1xE"
      }
    },
    {
      "cell_type": "markdown",
      "source": [
        "Q9. Explain the purpose and usage of the `map()` function in Python.\n",
        "- The map() function in Python applies a given function to each item in an iterable (e.g., list, tuple) and returns an iterator of the results. It is used to perform operations on all elements of an iterable without explicitly writing a loop, making code concise and efficient.\n",
        "\n",
        "- Syntax:\n",
        "map(function, iterable)\n",
        "-Example:\n",
        "- # Using map() to square numbers in a list\n",
        "numbers = [1, 2, 3, 4]\n",
        "squared = map(lambda x: x ** 2, numbers)\n",
        "print(list(squared))  # Output: [1, 4, 9, 16]"
      ],
      "metadata": {
        "id": "ZQtF52YaIAkc"
      }
    },
    {
      "cell_type": "markdown",
      "source": [
        "Q10.. What is the difference between `map()`, `reduce()`, and `filter()` functions in Python?\n",
        "- The map(), reduce(), and filter() functions in Python are higher-order functions used for processing iterables, but they serve different purposes:\n",
        "- 1.map(): Applies a function to each item in an iterable and returns an iterator with the transformed items.\n",
        "numbers = [1, 2, 3, 4]\n",
        "squared = map(lambda x: x**2, numbers)\n",
        "print(list(squared))  # Output: [1, 4, 9, 16]\n",
        "\n",
        "- 2.filter(): Filters items in an iterable based on a predicate (a function that returns True or False) and returns an iterator of items that satisfy the condition.\n",
        "numbers = [1, 2, 3, 4]\n",
        "even = filter(lambda x: x % 2 == 0, numbers)\n",
        "print(list(even))  # Output: [2, 4]\n",
        "\n",
        "- 3. reduce() (from functools): Reduces an iterable to a single value by applying a function cumulatively to its items.\n",
        "from functools import reduce\n",
        "numbers = [1, 2, 3, 4]\n",
        "total = reduce(lambda x, y: x + y, numbers)\n",
        "print(total)  # Output: 10"
      ],
      "metadata": {
        "id": "VVHu190_JTR-"
      }
    },
    {
      "cell_type": "markdown",
      "source": [
        "* Practical Questions:"
      ],
      "metadata": {
        "id": "GKkQMGvsU0Pn"
      }
    },
    {
      "cell_type": "code",
      "source": [
        "# Write a Python function that takes a list of numbers as input and returns the sum of all even numbers in\n",
        "the list.\n",
        "'''\n",
        "def sum_of_evens(numbers):\n",
        "    \"\"\"Returns the sum of all even numbers in the list.\"\"\"\n",
        "    return sum(num for num in numbers if num % 2 == 0)\n",
        "\n",
        "# Example usage\n",
        "numbers = [1, 2, 3, 4, 5, 6]\n",
        "result = sum_of_evens(numbers)\n",
        "print(result)  # Output: 12 (2 + 4 + 6)\n",
        "'''"
      ],
      "metadata": {
        "id": "QTx4g8RIWFg7"
      },
      "execution_count": null,
      "outputs": []
    },
    {
      "cell_type": "code",
      "source": [
        "# Create a Python function that accepts a string and returns the reverse of that string.\n",
        "'''\n",
        "def reverse_string(input_string):\n",
        "    \"\"\"Returns the reverse of the given string.\"\"\"\n",
        "    return input_string[::-1]\n",
        "\n",
        "# Example usage\n",
        "text = \"hello\"\n",
        "result = reverse_string(text)\n",
        "print(result)  # Output: \"olleh\"\n",
        "'''"
      ],
      "metadata": {
        "id": "sFHO8KUJZZlF"
      },
      "execution_count": null,
      "outputs": []
    },
    {
      "cell_type": "code",
      "source": [
        "# Implement a Python function that takes a list of integers and returns a new list containing the squares of\n",
        "each number.\n",
        "'''\n",
        "def square_numbers(numbers):\n",
        "    \"\"\"Returns a list with the squares of each number in the input list.\"\"\"\n",
        "    return [num ** 2 for num in numbers]\n",
        "\n",
        "# Example usage\n",
        "numbers = [1, 2, 3, 4, 5]\n",
        "squared_list = square_numbers(numbers)\n",
        "print(squared_list)  # Output: [1, 4, 9, 16, 25]\n",
        "'''"
      ],
      "metadata": {
        "id": "Xe7bzrWUZynd"
      },
      "execution_count": null,
      "outputs": []
    },
    {
      "cell_type": "code",
      "source": [
        "#  Write a Python function that checks if a given number is prime or not from 1 to 200.\n",
        "'''\n",
        " def is_prime(number):\n",
        "    \"\"\"Checks if a given number between 1 and 200 is prime.\"\"\"\n",
        "    if number < 2 or number > 200:\n",
        "        return False\n",
        "    for i in range(2, int(number ** 0.5) + 1):\n",
        "        if number % i == 0:\n",
        "            return False\n",
        "    return True\n",
        "\n",
        "# Example usage\n",
        "for num in range(1, 201):\n",
        "    if is_prime(num):\n",
        "        print(f\"{num} is a prime number\")\n",
        "'''"
      ],
      "metadata": {
        "id": "LGttexThaWRA"
      },
      "execution_count": null,
      "outputs": []
    },
    {
      "cell_type": "code",
      "source": [
        "#  Create an iterator class in Python that generates the Fibonacci sequence up to a specified number of\n",
        "terms.\n",
        "'''\n",
        "class FibonacciIterator:\n",
        "    \"\"\"Iterator class to generate the Fibonacci sequence.\"\"\"\n",
        "    def __init__(self, n_terms):\n",
        "        self.n_terms = n_terms\n",
        "        self.current = 0\n",
        "        self.next = 1\n",
        "        self.count = 0\n",
        "\n",
        "    def __iter__(self):\n",
        "        return self\n",
        "\n",
        "    def __next__(self):\n",
        "        if self.count >= self.n_terms:\n",
        "            raise StopIteration\n",
        "        self.count += 1\n",
        "        result = self.current\n",
        "        self.current, self.next = self.next, self.current + self.next\n",
        "        return result\n",
        "\n",
        "# Example usage\n",
        "fib_iterator = FibonacciIterator(10)  # Generate first 10 terms of Fibonacci sequence\n",
        "for num in fib_iterator:\n",
        "    print(num, end=\" \")  # Output: 0 1 1 2 3 5 8 13 21 34\n",
        "'''"
      ],
      "metadata": {
        "id": "nNRT3KjZa3-7"
      },
      "execution_count": null,
      "outputs": []
    },
    {
      "cell_type": "code",
      "source": [
        "# Write a generator function in Python that yields the powers of 2 up to a given exponent.\n",
        "'''\n",
        "def powers_of_two(max_exponent):\n",
        "    \"\"\"Yields powers of 2 up to 2**max_exponent.\"\"\"\n",
        "    for exponent in range(max_exponent + 1):\n",
        "        yield 2 ** exponent\n",
        "\n",
        "# Example usage\n",
        "for power in powers_of_two(5):\n",
        "    print(power, end=\" \")  # Output: 1 2 4 8 16 32\n",
        "'''"
      ],
      "metadata": {
        "id": "P-9yWtUZdgU9"
      },
      "execution_count": null,
      "outputs": []
    },
    {
      "cell_type": "code",
      "source": [
        "#  Implement a generator function that reads a file line by line and yields each line as a string.\n",
        "'''\n",
        "def read_file_line_by_line(file_path):\n",
        "    \"\"\"Yields each line of the file as a string.\"\"\"\n",
        "    with open(file_path, 'r') as file:\n",
        "        for line in file:\n",
        "            yield line.strip()  # Strip newline characters and spaces\n",
        "\n",
        "# Example usage\n",
        "# Assuming 'example.txt' contains some text\n",
        "for line in read_file_line_by_line('example.txt'):\n",
        "    print(line)\n",
        "'''"
      ],
      "metadata": {
        "id": "lXf5B3yrd3V4"
      },
      "execution_count": null,
      "outputs": []
    },
    {
      "cell_type": "code",
      "source": [
        "#  Use a lambda function in Python to sort a list of tuples based on the second element of each tuple.\n",
        "'''\n",
        "# List of tuples\n",
        "data = [(1, 3), (4, 1), (2, 5), (3, 2)]\n",
        "\n",
        "# Sorting based on the second element\n",
        "sorted_data = sorted(data, key=lambda x: x[1])\n",
        "\n",
        "print(sorted_data)  # Output: [(4, 1), (3, 2), (1, 3), (2, 5)]\n",
        "'''"
      ],
      "metadata": {
        "id": "Y_SZqiEVecoN"
      },
      "execution_count": null,
      "outputs": []
    },
    {
      "cell_type": "code",
      "source": [
        "# Write a Python program that uses `map()` to convert a list of temperatures from Celsius to Fahrenheit.\n",
        "'''\n",
        "# Conversion function\n",
        "def celsius_to_fahrenheit(celsius):\n",
        "    return (celsius * 9/5) + 32\n",
        "\n",
        "# List of temperatures in Celsius\n",
        "celsius_temperatures = [0, 20, 30, 40, 100]\n",
        "\n",
        "# Using map() to convert to Fahrenheit\n",
        "fahrenheit_temperatures = list(map(celsius_to_fahrenheit, celsius_temperatures))\n",
        "\n",
        "print(fahrenheit_temperatures)  # Output: [32.0, 68.0, 86.0, 104.0, 212.0]\n",
        "'''"
      ],
      "metadata": {
        "id": "i9l7nxzxe07M"
      },
      "execution_count": null,
      "outputs": []
    },
    {
      "cell_type": "code",
      "source": [
        "# Create a Python program that uses `filter()` to remove all the vowels from a given string.\n",
        "'''\n",
        "# Function to check if a character is a vowel\n",
        "def is_not_vowel(char):\n",
        "    return char.lower() not in 'aeiou'\n",
        "\n",
        "# Given string\n",
        "input_string = \"Hello World\"\n",
        "\n",
        "# Using filter() to remove vowels\n",
        "filtered_string = ''.join(filter(is_not_vowel, input_string))\n",
        "\n",
        "print(filtered_string)  # Output: \"Hll Wrld\"\n",
        "'''"
      ],
      "metadata": {
        "id": "gvjyTuP0fSoD"
      },
      "execution_count": null,
      "outputs": []
    }
  ]
}